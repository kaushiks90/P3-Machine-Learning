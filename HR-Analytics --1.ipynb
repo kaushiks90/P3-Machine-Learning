{
 "cells": [
  {
   "cell_type": "code",
   "execution_count": 41,
   "metadata": {
    "collapsed": false
   },
   "outputs": [],
   "source": [
    "import pandas as pd\n",
    "import numpy as np\n",
    "import matplotlib.pyplot as plt\n",
    "%matplotlib inline"
   ]
  },
  {
   "cell_type": "code",
   "execution_count": 42,
   "metadata": {
    "collapsed": false
   },
   "outputs": [],
   "source": [
    "hr=pd.read_excel(\"hr.xlsx\")\n",
    "hr.head()\n",
    "hr.drop('OverTime',axis=1,inplace=True)\n",
    "hr.drop('Over18',axis=1,inplace=True)"
   ]
  },
  {
   "cell_type": "code",
   "execution_count": 43,
   "metadata": {
    "collapsed": false
   },
   "outputs": [],
   "source": [
    "hr[\"Attrition\"]=hr[\"Attrition\"].map({\"Yes\":1,\"No\":0})\n",
    "hr[\"BusinessTravel\"]=hr[\"BusinessTravel\"].map({\"Travel_Rarely\":1,\"Travel_Frequently\":2,\"Non-Travel\":3})\n",
    "hr[\"Department\"]=hr[\"Department\"].map({'Research & Development':1,'Human Resources':2,'Sales':3})\n",
    "hr[\"EducationField\"]=hr[\"EducationField\"].map({'Life Sciences':1,'Medical':2,'Marketing':3,'Technical Degree':4,'Human Resources':5,'Other':6})\n",
    "hr[\"Gender\"]=hr[\"Gender\"].map({\"Female\":1,\"Male\":2})\n",
    "hr[\"JobRole\"]=hr[\"JobRole\"].map({\"Sales Executive\":1,\"Research Scientist\":2,\"Laboratory Technician\":3,\"Manufacturing Director\":4,\n",
    "                  \"Healthcare Representative\":5,\"Manager\":6,\"Sales Representative\":7,\"Research Director\":8,\"Human Resources\":9})\n",
    "hr[\"MaritalStatus\"]=hr[\"MaritalStatus\"].map({\"Single\":1,\"Married\":2,\"Divorced\":3})"
   ]
  },
  {
   "cell_type": "code",
   "execution_count": 44,
   "metadata": {
    "collapsed": false
   },
   "outputs": [
    {
     "data": {
      "text/html": [
       "<div>\n",
       "<table border=\"1\" class=\"dataframe\">\n",
       "  <thead>\n",
       "    <tr style=\"text-align: right;\">\n",
       "      <th></th>\n",
       "      <th>Age</th>\n",
       "      <th>Attrition</th>\n",
       "      <th>BusinessTravel</th>\n",
       "      <th>DailyRate</th>\n",
       "      <th>Department</th>\n",
       "      <th>DistanceFromHome</th>\n",
       "      <th>Education</th>\n",
       "      <th>EducationField</th>\n",
       "      <th>EmployeeCount</th>\n",
       "      <th>EmployeeNumber</th>\n",
       "      <th>...</th>\n",
       "      <th>RelationshipSatisfaction</th>\n",
       "      <th>StandardHours</th>\n",
       "      <th>StockOptionLevel</th>\n",
       "      <th>TotalWorkingYears</th>\n",
       "      <th>TrainingTimesLastYear</th>\n",
       "      <th>WorkLifeBalance</th>\n",
       "      <th>YearsAtCompany</th>\n",
       "      <th>YearsInCurrentRole</th>\n",
       "      <th>YearsSinceLastPromotion</th>\n",
       "      <th>YearsWithCurrManager</th>\n",
       "    </tr>\n",
       "  </thead>\n",
       "  <tbody>\n",
       "    <tr>\n",
       "      <th>0</th>\n",
       "      <td>41</td>\n",
       "      <td>1</td>\n",
       "      <td>1</td>\n",
       "      <td>1102</td>\n",
       "      <td>3</td>\n",
       "      <td>1</td>\n",
       "      <td>2</td>\n",
       "      <td>1</td>\n",
       "      <td>1</td>\n",
       "      <td>1</td>\n",
       "      <td>...</td>\n",
       "      <td>1</td>\n",
       "      <td>80</td>\n",
       "      <td>0</td>\n",
       "      <td>8</td>\n",
       "      <td>0</td>\n",
       "      <td>1</td>\n",
       "      <td>6</td>\n",
       "      <td>4</td>\n",
       "      <td>0</td>\n",
       "      <td>5</td>\n",
       "    </tr>\n",
       "    <tr>\n",
       "      <th>1</th>\n",
       "      <td>49</td>\n",
       "      <td>0</td>\n",
       "      <td>2</td>\n",
       "      <td>279</td>\n",
       "      <td>1</td>\n",
       "      <td>8</td>\n",
       "      <td>1</td>\n",
       "      <td>1</td>\n",
       "      <td>1</td>\n",
       "      <td>2</td>\n",
       "      <td>...</td>\n",
       "      <td>4</td>\n",
       "      <td>80</td>\n",
       "      <td>1</td>\n",
       "      <td>10</td>\n",
       "      <td>3</td>\n",
       "      <td>3</td>\n",
       "      <td>10</td>\n",
       "      <td>7</td>\n",
       "      <td>1</td>\n",
       "      <td>7</td>\n",
       "    </tr>\n",
       "    <tr>\n",
       "      <th>2</th>\n",
       "      <td>37</td>\n",
       "      <td>1</td>\n",
       "      <td>1</td>\n",
       "      <td>1373</td>\n",
       "      <td>1</td>\n",
       "      <td>2</td>\n",
       "      <td>2</td>\n",
       "      <td>6</td>\n",
       "      <td>1</td>\n",
       "      <td>4</td>\n",
       "      <td>...</td>\n",
       "      <td>2</td>\n",
       "      <td>80</td>\n",
       "      <td>0</td>\n",
       "      <td>7</td>\n",
       "      <td>3</td>\n",
       "      <td>3</td>\n",
       "      <td>0</td>\n",
       "      <td>0</td>\n",
       "      <td>0</td>\n",
       "      <td>0</td>\n",
       "    </tr>\n",
       "    <tr>\n",
       "      <th>3</th>\n",
       "      <td>33</td>\n",
       "      <td>0</td>\n",
       "      <td>2</td>\n",
       "      <td>1392</td>\n",
       "      <td>1</td>\n",
       "      <td>3</td>\n",
       "      <td>4</td>\n",
       "      <td>1</td>\n",
       "      <td>1</td>\n",
       "      <td>5</td>\n",
       "      <td>...</td>\n",
       "      <td>3</td>\n",
       "      <td>80</td>\n",
       "      <td>0</td>\n",
       "      <td>8</td>\n",
       "      <td>3</td>\n",
       "      <td>3</td>\n",
       "      <td>8</td>\n",
       "      <td>7</td>\n",
       "      <td>3</td>\n",
       "      <td>0</td>\n",
       "    </tr>\n",
       "    <tr>\n",
       "      <th>4</th>\n",
       "      <td>27</td>\n",
       "      <td>0</td>\n",
       "      <td>1</td>\n",
       "      <td>591</td>\n",
       "      <td>1</td>\n",
       "      <td>2</td>\n",
       "      <td>1</td>\n",
       "      <td>2</td>\n",
       "      <td>1</td>\n",
       "      <td>7</td>\n",
       "      <td>...</td>\n",
       "      <td>4</td>\n",
       "      <td>80</td>\n",
       "      <td>1</td>\n",
       "      <td>6</td>\n",
       "      <td>3</td>\n",
       "      <td>3</td>\n",
       "      <td>2</td>\n",
       "      <td>2</td>\n",
       "      <td>2</td>\n",
       "      <td>2</td>\n",
       "    </tr>\n",
       "  </tbody>\n",
       "</table>\n",
       "<p>5 rows × 33 columns</p>\n",
       "</div>"
      ],
      "text/plain": [
       "   Age  Attrition  BusinessTravel  DailyRate  Department  DistanceFromHome  \\\n",
       "0   41          1               1       1102           3                 1   \n",
       "1   49          0               2        279           1                 8   \n",
       "2   37          1               1       1373           1                 2   \n",
       "3   33          0               2       1392           1                 3   \n",
       "4   27          0               1        591           1                 2   \n",
       "\n",
       "   Education  EducationField  EmployeeCount  EmployeeNumber  \\\n",
       "0          2               1              1               1   \n",
       "1          1               1              1               2   \n",
       "2          2               6              1               4   \n",
       "3          4               1              1               5   \n",
       "4          1               2              1               7   \n",
       "\n",
       "           ...           RelationshipSatisfaction  StandardHours  \\\n",
       "0          ...                                  1             80   \n",
       "1          ...                                  4             80   \n",
       "2          ...                                  2             80   \n",
       "3          ...                                  3             80   \n",
       "4          ...                                  4             80   \n",
       "\n",
       "   StockOptionLevel  TotalWorkingYears  TrainingTimesLastYear  \\\n",
       "0                 0                  8                      0   \n",
       "1                 1                 10                      3   \n",
       "2                 0                  7                      3   \n",
       "3                 0                  8                      3   \n",
       "4                 1                  6                      3   \n",
       "\n",
       "   WorkLifeBalance  YearsAtCompany  YearsInCurrentRole  \\\n",
       "0                1               6                   4   \n",
       "1                3              10                   7   \n",
       "2                3               0                   0   \n",
       "3                3               8                   7   \n",
       "4                3               2                   2   \n",
       "\n",
       "   YearsSinceLastPromotion  YearsWithCurrManager  \n",
       "0                        0                     5  \n",
       "1                        1                     7  \n",
       "2                        0                     0  \n",
       "3                        3                     0  \n",
       "4                        2                     2  \n",
       "\n",
       "[5 rows x 33 columns]"
      ]
     },
     "execution_count": 44,
     "metadata": {},
     "output_type": "execute_result"
    }
   ],
   "source": [
    "hr.head()"
   ]
  },
  {
   "cell_type": "code",
   "execution_count": 45,
   "metadata": {
    "collapsed": false
   },
   "outputs": [
    {
     "name": "stdout",
     "output_type": "stream",
     "text": [
      "(1470, 33)\n",
      "--------------------------------------------------\n",
      "0    1233\n",
      "1     237\n",
      "Name: Attrition, dtype: int64\n",
      "--------------------------------------------------\n",
      "[u'Age' u'Attrition' u'BusinessTravel' u'DailyRate' u'Department'\n",
      " u'DistanceFromHome' u'Education' u'EducationField' u'EmployeeCount'\n",
      " u'EmployeeNumber' u'EnvironmentSatisfaction' u'Gender' u'HourlyRate'\n",
      " u'JobInvolvement' u'JobLevel' u'JobRole' u'JobSatisfaction'\n",
      " u'MaritalStatus' u'MonthlyIncome' u'MonthlyRate' u'NumCompaniesWorked'\n",
      " u'PercentSalaryHike' u'PerformanceRating' u'RelationshipSatisfaction'\n",
      " u'StandardHours' u'StockOptionLevel' u'TotalWorkingYears'\n",
      " u'TrainingTimesLastYear' u'WorkLifeBalance' u'YearsAtCompany'\n",
      " u'YearsInCurrentRole' u'YearsSinceLastPromotion' u'YearsWithCurrManager']\n"
     ]
    }
   ],
   "source": [
    "print hr.shape\n",
    "print \"--------------------------------------------------\"\n",
    "print hr.Attrition.value_counts()\n",
    "print \"--------------------------------------------------\"\n",
    "names=hr.columns.values\n",
    "print names"
   ]
  },
  {
   "cell_type": "code",
   "execution_count": 46,
   "metadata": {
    "collapsed": false
   },
   "outputs": [
    {
     "name": "stdout",
     "output_type": "stream",
     "text": [
      "(1470, 30)\n",
      "[u'Age' u'Attrition' u'BusinessTravel' u'DailyRate' u'Department'\n",
      " u'DistanceFromHome' u'Education' u'EducationField'\n",
      " u'EnvironmentSatisfaction' u'Gender' u'HourlyRate' u'JobInvolvement'\n",
      " u'JobLevel' u'JobRole' u'JobSatisfaction' u'MaritalStatus'\n",
      " u'MonthlyIncome' u'MonthlyRate' u'NumCompaniesWorked' u'PerformanceRating'\n",
      " u'RelationshipSatisfaction' u'StandardHours' u'StockOptionLevel'\n",
      " u'TotalWorkingYears' u'TrainingTimesLastYear' u'WorkLifeBalance'\n",
      " u'YearsAtCompany' u'YearsInCurrentRole' u'YearsSinceLastPromotion'\n",
      " u'YearsWithCurrManager']\n"
     ]
    },
    {
     "data": {
      "text/html": [
       "<div>\n",
       "<table border=\"1\" class=\"dataframe\">\n",
       "  <thead>\n",
       "    <tr style=\"text-align: right;\">\n",
       "      <th></th>\n",
       "      <th>Age</th>\n",
       "      <th>Attrition</th>\n",
       "      <th>BusinessTravel</th>\n",
       "      <th>DailyRate</th>\n",
       "      <th>Department</th>\n",
       "      <th>DistanceFromHome</th>\n",
       "      <th>Education</th>\n",
       "      <th>EducationField</th>\n",
       "      <th>EnvironmentSatisfaction</th>\n",
       "      <th>Gender</th>\n",
       "      <th>...</th>\n",
       "      <th>RelationshipSatisfaction</th>\n",
       "      <th>StandardHours</th>\n",
       "      <th>StockOptionLevel</th>\n",
       "      <th>TotalWorkingYears</th>\n",
       "      <th>TrainingTimesLastYear</th>\n",
       "      <th>WorkLifeBalance</th>\n",
       "      <th>YearsAtCompany</th>\n",
       "      <th>YearsInCurrentRole</th>\n",
       "      <th>YearsSinceLastPromotion</th>\n",
       "      <th>YearsWithCurrManager</th>\n",
       "    </tr>\n",
       "  </thead>\n",
       "  <tbody>\n",
       "    <tr>\n",
       "      <th>0</th>\n",
       "      <td>41</td>\n",
       "      <td>1</td>\n",
       "      <td>1</td>\n",
       "      <td>1102</td>\n",
       "      <td>3</td>\n",
       "      <td>1</td>\n",
       "      <td>2</td>\n",
       "      <td>1</td>\n",
       "      <td>2</td>\n",
       "      <td>1</td>\n",
       "      <td>...</td>\n",
       "      <td>1</td>\n",
       "      <td>80</td>\n",
       "      <td>0</td>\n",
       "      <td>8</td>\n",
       "      <td>0</td>\n",
       "      <td>1</td>\n",
       "      <td>6</td>\n",
       "      <td>4</td>\n",
       "      <td>0</td>\n",
       "      <td>5</td>\n",
       "    </tr>\n",
       "    <tr>\n",
       "      <th>1</th>\n",
       "      <td>49</td>\n",
       "      <td>0</td>\n",
       "      <td>2</td>\n",
       "      <td>279</td>\n",
       "      <td>1</td>\n",
       "      <td>8</td>\n",
       "      <td>1</td>\n",
       "      <td>1</td>\n",
       "      <td>3</td>\n",
       "      <td>2</td>\n",
       "      <td>...</td>\n",
       "      <td>4</td>\n",
       "      <td>80</td>\n",
       "      <td>1</td>\n",
       "      <td>10</td>\n",
       "      <td>3</td>\n",
       "      <td>3</td>\n",
       "      <td>10</td>\n",
       "      <td>7</td>\n",
       "      <td>1</td>\n",
       "      <td>7</td>\n",
       "    </tr>\n",
       "    <tr>\n",
       "      <th>2</th>\n",
       "      <td>37</td>\n",
       "      <td>1</td>\n",
       "      <td>1</td>\n",
       "      <td>1373</td>\n",
       "      <td>1</td>\n",
       "      <td>2</td>\n",
       "      <td>2</td>\n",
       "      <td>6</td>\n",
       "      <td>4</td>\n",
       "      <td>2</td>\n",
       "      <td>...</td>\n",
       "      <td>2</td>\n",
       "      <td>80</td>\n",
       "      <td>0</td>\n",
       "      <td>7</td>\n",
       "      <td>3</td>\n",
       "      <td>3</td>\n",
       "      <td>0</td>\n",
       "      <td>0</td>\n",
       "      <td>0</td>\n",
       "      <td>0</td>\n",
       "    </tr>\n",
       "    <tr>\n",
       "      <th>3</th>\n",
       "      <td>33</td>\n",
       "      <td>0</td>\n",
       "      <td>2</td>\n",
       "      <td>1392</td>\n",
       "      <td>1</td>\n",
       "      <td>3</td>\n",
       "      <td>4</td>\n",
       "      <td>1</td>\n",
       "      <td>4</td>\n",
       "      <td>1</td>\n",
       "      <td>...</td>\n",
       "      <td>3</td>\n",
       "      <td>80</td>\n",
       "      <td>0</td>\n",
       "      <td>8</td>\n",
       "      <td>3</td>\n",
       "      <td>3</td>\n",
       "      <td>8</td>\n",
       "      <td>7</td>\n",
       "      <td>3</td>\n",
       "      <td>0</td>\n",
       "    </tr>\n",
       "    <tr>\n",
       "      <th>4</th>\n",
       "      <td>27</td>\n",
       "      <td>0</td>\n",
       "      <td>1</td>\n",
       "      <td>591</td>\n",
       "      <td>1</td>\n",
       "      <td>2</td>\n",
       "      <td>1</td>\n",
       "      <td>2</td>\n",
       "      <td>1</td>\n",
       "      <td>2</td>\n",
       "      <td>...</td>\n",
       "      <td>4</td>\n",
       "      <td>80</td>\n",
       "      <td>1</td>\n",
       "      <td>6</td>\n",
       "      <td>3</td>\n",
       "      <td>3</td>\n",
       "      <td>2</td>\n",
       "      <td>2</td>\n",
       "      <td>2</td>\n",
       "      <td>2</td>\n",
       "    </tr>\n",
       "  </tbody>\n",
       "</table>\n",
       "<p>5 rows × 30 columns</p>\n",
       "</div>"
      ],
      "text/plain": [
       "   Age  Attrition  BusinessTravel  DailyRate  Department  DistanceFromHome  \\\n",
       "0   41          1               1       1102           3                 1   \n",
       "1   49          0               2        279           1                 8   \n",
       "2   37          1               1       1373           1                 2   \n",
       "3   33          0               2       1392           1                 3   \n",
       "4   27          0               1        591           1                 2   \n",
       "\n",
       "   Education  EducationField  EnvironmentSatisfaction  Gender  \\\n",
       "0          2               1                        2       1   \n",
       "1          1               1                        3       2   \n",
       "2          2               6                        4       2   \n",
       "3          4               1                        4       1   \n",
       "4          1               2                        1       2   \n",
       "\n",
       "           ...           RelationshipSatisfaction  StandardHours  \\\n",
       "0          ...                                  1             80   \n",
       "1          ...                                  4             80   \n",
       "2          ...                                  2             80   \n",
       "3          ...                                  3             80   \n",
       "4          ...                                  4             80   \n",
       "\n",
       "   StockOptionLevel  TotalWorkingYears  TrainingTimesLastYear  \\\n",
       "0                 0                  8                      0   \n",
       "1                 1                 10                      3   \n",
       "2                 0                  7                      3   \n",
       "3                 0                  8                      3   \n",
       "4                 1                  6                      3   \n",
       "\n",
       "   WorkLifeBalance  YearsAtCompany  YearsInCurrentRole  \\\n",
       "0                1               6                   4   \n",
       "1                3              10                   7   \n",
       "2                3               0                   0   \n",
       "3                3               8                   7   \n",
       "4                3               2                   2   \n",
       "\n",
       "   YearsSinceLastPromotion  YearsWithCurrManager  \n",
       "0                        0                     5  \n",
       "1                        1                     7  \n",
       "2                        0                     0  \n",
       "3                        3                     0  \n",
       "4                        2                     2  \n",
       "\n",
       "[5 rows x 30 columns]"
      ]
     },
     "execution_count": 46,
     "metadata": {},
     "output_type": "execute_result"
    }
   ],
   "source": [
    "hr1=hr.drop(hr.columns[[8,9,21]],axis=1,inplace=False)\n",
    "print hr1.shape\n",
    "print hr1.columns.values\n",
    "\n",
    "hr1.head()"
   ]
  },
  {
   "cell_type": "code",
   "execution_count": 47,
   "metadata": {
    "collapsed": false
   },
   "outputs": [
    {
     "name": "stdout",
     "output_type": "stream",
     "text": [
      "<type 'numpy.ndarray'>\n",
      "<type 'numpy.ndarray'>\n",
      "(1470L, 30L)\n",
      "(1470L,)\n"
     ]
    }
   ],
   "source": [
    "X=hr.iloc[:,2:32].values\n",
    "y=hr1.iloc[:,1].values\n",
    "print type(X)\n",
    "print type(y)\n",
    "print X.shape\n",
    "print y.shape\n"
   ]
  },
  {
   "cell_type": "code",
   "execution_count": 48,
   "metadata": {
    "collapsed": false
   },
   "outputs": [
    {
     "name": "stdout",
     "output_type": "stream",
     "text": [
      "(1029L, 30L)\n",
      "(441L, 30L)\n",
      "(1029L,)\n",
      "(441L,)\n"
     ]
    }
   ],
   "source": [
    "from sklearn.cross_validation import train_test_split\n",
    "\n",
    "X_train,X_test,y_train,y_test=train_test_split(X,y,test_size=0.3,random_state=0)\n",
    "print X_train.shape\n",
    "print X_test.shape\n",
    "print y_train.shape\n",
    "print y_test.shape"
   ]
  },
  {
   "cell_type": "code",
   "execution_count": 49,
   "metadata": {
    "collapsed": true
   },
   "outputs": [],
   "source": [
    "from sklearn.linear_model import LogisticRegression\n",
    "logreg=LogisticRegression()"
   ]
  },
  {
   "cell_type": "code",
   "execution_count": 52,
   "metadata": {
    "collapsed": false
   },
   "outputs": [
    {
     "name": "stdout",
     "output_type": "stream",
     "text": [
      "[ 0.00035984]\n",
      "[[ -7.90771363e-03  -2.54078894e-04   1.98472082e-01   3.27227064e-02\n",
      "   -2.30715226e-02   9.76313206e-02   3.59843686e-04  -1.34175840e-04\n",
      "   -2.44746797e-01   3.71369517e-02  -5.22434866e-04  -2.28569355e-01\n",
      "   -3.09548194e-02   2.93043372e-02  -2.28550381e-01  -2.39026070e-01\n",
      "   -8.16050144e-05   6.87480006e-06   1.13816413e-01  -2.12344784e-02\n",
      "    1.94774532e-02  -1.23306763e-01   2.87874949e-02  -2.29632888e-01\n",
      "   -5.91523815e-02  -1.36757403e-01  -1.11588642e-01   3.26859423e-02\n",
      "   -1.66754851e-01   1.32906567e-01]]\n"
     ]
    }
   ],
   "source": [
    "logreg.fit(X,y) \n",
    "print logreg.intercept_\n",
    "print logreg.coef_"
   ]
  },
  {
   "cell_type": "code",
   "execution_count": 53,
   "metadata": {
    "collapsed": false
   },
   "outputs": [
    {
     "name": "stdout",
     "output_type": "stream",
     "text": [
      "<type 'numpy.ndarray'>\n"
     ]
    }
   ],
   "source": [
    "y_pred_class=logreg.predict(X_test)\n",
    "print type(y_pred_class)"
   ]
  },
  {
   "cell_type": "code",
   "execution_count": 57,
   "metadata": {
    "collapsed": false
   },
   "outputs": [
    {
     "name": "stdout",
     "output_type": "stream",
     "text": [
      "(441L,)\n",
      "(441L,)\n",
      "[0 0 0 0 0 0 0 0 0 0 0 0 0 0 0 0 0 0 0 1 0 0 0 0 0 0 0 0 0 0 0 0 0 0 0 0 0\n",
      " 0 0 0 0 0 0 0 0 0 0 0 0 0 0 0 0 0 0 0 0 0 0 0 0 0 0 0 0 0 0 0 0 0 0 0 0 0\n",
      " 0 0 0 0 0 0 0 0 0 0 0 0 0 0 0 0 0 0 0 0 0 0 0 1 0 0 0 0 0 0 0 0 0 0 0 0 0\n",
      " 0 0 0 0 0 0 0 0 0 0 0 0 0 0 0 0 0 0 0 0 0 0 0 0 0 0 0 0 0 0 0 0 0 0 0 0 0\n",
      " 0 0 0 0 0 0 0 0 0 0 0 0 0 0 0 0 0 0 0 0 0 0 0 0 0 0 0 0 0 0 0 0 0 0 0 0 0\n",
      " 0 1 0 0 0 0 0 0 0 0 0 0 0 0 0 0 0 1 0 0 0 0 0 0 0 0 0 0 0 0 0 0 0 0 0 0 0\n",
      " 1 0 0 0 0 0 0 0 0 0 0 0 0 0 0 0 0 0 0 0 0 0 0 0 0 0 0 0 0 0 1 0 0 0 0 0 0\n",
      " 0 0 0 0 0 0 0 0 0 0 0 0 0 0 0 0 0 0 0 0 0 0 0 0 0 0 0 0 0 0 0 0 0 0 0 0 0\n",
      " 0 0 1 0 0 0 0 0 0 0 0 0 0 0 0 0 0 0 0 0 0 0 0 0 0 0 0 0 0 0 0 0 0 0 0 0 0\n",
      " 0 0 0 0 0 0 0 0 0 0 0 0 0 0 0 0 0 0 0 0 0 0 0 0 0 0 0 0 0 0 0 0 0 0 0 0 0\n",
      " 0 0 0 0 0 0 0 0 0 0 0 0 0 0 0 1 0 0 0 0 0 0 0 0 1 0 0 0 0 0 1 0 0 0 0 0 0\n",
      " 0 0 0 0 0 0 0 0 0 0 0 0 0 0 0 0 0 0 0 0 0 0 0 0 0 0 0 0 0 0 0 0 0 0]\n"
     ]
    }
   ],
   "source": [
    "print y_pred_class.shape\n",
    "print y_test.shape\n",
    "print y_pred_class"
   ]
  },
  {
   "cell_type": "code",
   "execution_count": 60,
   "metadata": {
    "collapsed": false
   },
   "outputs": [
    {
     "data": {
      "text/plain": [
       "0.8458049886621315"
      ]
     },
     "execution_count": 60,
     "metadata": {},
     "output_type": "execute_result"
    }
   ],
   "source": [
    "from sklearn import metrics\n",
    "metrics.accuracy_score(y_test,y_pred_class)"
   ]
  },
  {
   "cell_type": "code",
   "execution_count": 62,
   "metadata": {
    "collapsed": false
   },
   "outputs": [
    {
     "name": "stdout",
     "output_type": "stream",
     "text": [
      "             precision    recall  f1-score   support\n",
      "\n",
      "          0       0.85      0.99      0.92       371\n",
      "          1       0.60      0.09      0.15        70\n",
      "\n",
      "avg / total       0.81      0.85      0.79       441\n",
      "\n"
     ]
    }
   ],
   "source": [
    "print metrics.classification_report(y_test,y_pred_class)"
   ]
  },
  {
   "cell_type": "code",
   "execution_count": 63,
   "metadata": {
    "collapsed": false
   },
   "outputs": [
    {
     "name": "stdout",
     "output_type": "stream",
     "text": [
      "[[367   4]\n",
      " [ 64   6]]\n"
     ]
    }
   ],
   "source": [
    "print metrics.confusion_matrix(y_test,y_pred_class)"
   ]
  },
  {
   "cell_type": "code",
   "execution_count": 65,
   "metadata": {
    "collapsed": false
   },
   "outputs": [
    {
     "name": "stdout",
     "output_type": "stream",
     "text": [
      "[[   3  635    3 ...,   10    3    9]\n",
      " [   1  575    1 ...,    5    3    0]\n",
      " [   1 1492    1 ...,   11   10   11]\n",
      " ..., \n",
      " [   3 1094    3 ...,    1    0    0]\n",
      " [   1  319    1 ...,    5    4    0]\n",
      " [   1  213    1 ...,   13    9    3]]\n",
      "(373L, 30L)\n"
     ]
    }
   ],
   "source": [
    "#True Positive\n",
    "T_positive=X_test[y_test==y_pred_class]\n",
    "print T_positive\n",
    "print T_positive.shape\n"
   ]
  },
  {
   "cell_type": "code",
   "execution_count": 66,
   "metadata": {
    "collapsed": false
   },
   "outputs": [
    {
     "name": "stdout",
     "output_type": "stream",
     "text": [
      "[[   2  662    3 ...,    4    2    3]\n",
      " [   2  459    1 ...,    1    0    1]\n",
      " [   1  790    3 ...,   15    9   10]\n",
      " ..., \n",
      " [   1 1259    1 ...,    1    0    0]\n",
      " [   1 1376    2 ...,   20    6    3]\n",
      " [   3  247    1 ...,    0    0    0]]\n",
      "(68L, 30L)\n"
     ]
    }
   ],
   "source": [
    "#True Negative\n",
    "T_Negative=X_test[y_test!=y_pred_class]\n",
    "print T_Negative\n",
    "print T_Negative.shape"
   ]
  },
  {
   "cell_type": "code",
   "execution_count": 67,
   "metadata": {
    "collapsed": false
   },
   "outputs": [
    {
     "name": "stdout",
     "output_type": "stream",
     "text": [
      "[[    1  1108     1    15     4     6     1  1576     3     1    65     3\n",
      "      1     2     1     2  2367 16530     8    12     3     4    80     1\n",
      "     10     3     2     8     2     7]\n",
      " [    1   106     2     2     3     5     1   424     1     2    62     2\n",
      "      2     9     1     2  6410 17822     3    12     3     4    80     0\n",
      "      9     1     3     2     2     1]\n",
      " [    1  1179     3    16     4     3     1   732     1     2    84     3\n",
      "      2     1     1     1  5405 11924     8    14     3     4    80     0\n",
      "     10     1     3     2     2     2]\n",
      " [    3   457     1    26     2     6     1  1605     2     1    85     2\n",
      "      1     2     3     2  2814 10293     1    14     3     2    80     0\n",
      "      4     2     2     4     2     1]]\n",
      "(4L, 30L)\n"
     ]
    }
   ],
   "source": [
    "#False Positive \n",
    "False_Positive=X_test[y_test<y_pred_class]\n",
    "print False_Positive\n",
    "print False_Positive.shape"
   ]
  },
  {
   "cell_type": "code",
   "execution_count": 69,
   "metadata": {
    "collapsed": false
   },
   "outputs": [
    {
     "name": "stdout",
     "output_type": "stream",
     "text": [
      "(64L, 30L)\n"
     ]
    },
    {
     "data": {
      "text/plain": [
       "array([[   2,  662,    3, ...,    4,    2,    3],\n",
       "       [   2,  459,    1, ...,    1,    0,    1],\n",
       "       [   1,  790,    3, ...,   15,    9,   10],\n",
       "       ..., \n",
       "       [   1, 1259,    1, ...,    1,    0,    0],\n",
       "       [   1, 1376,    2, ...,   20,    6,    3],\n",
       "       [   3,  247,    1, ...,    0,    0,    0]], dtype=int64)"
      ]
     },
     "execution_count": 69,
     "metadata": {},
     "output_type": "execute_result"
    }
   ],
   "source": [
    "#False Negative\n",
    "FalseNegative=X_test[y_test>y_pred_class]\n",
    "print FalseNegative.shape\n",
    "FalseNegative"
   ]
  },
  {
   "cell_type": "code",
   "execution_count": null,
   "metadata": {
    "collapsed": true
   },
   "outputs": [],
   "source": []
  },
  {
   "cell_type": "code",
   "execution_count": null,
   "metadata": {
    "collapsed": true
   },
   "outputs": [],
   "source": []
  },
  {
   "cell_type": "code",
   "execution_count": null,
   "metadata": {
    "collapsed": true
   },
   "outputs": [],
   "source": []
  },
  {
   "cell_type": "code",
   "execution_count": null,
   "metadata": {
    "collapsed": true
   },
   "outputs": [],
   "source": []
  }
 ],
 "metadata": {
  "kernelspec": {
   "display_name": "Python 2",
   "language": "python",
   "name": "python2"
  },
  "language_info": {
   "codemirror_mode": {
    "name": "ipython",
    "version": 2
   },
   "file_extension": ".py",
   "mimetype": "text/x-python",
   "name": "python",
   "nbconvert_exporter": "python",
   "pygments_lexer": "ipython2",
   "version": "2.7.13"
  }
 },
 "nbformat": 4,
 "nbformat_minor": 2
}
